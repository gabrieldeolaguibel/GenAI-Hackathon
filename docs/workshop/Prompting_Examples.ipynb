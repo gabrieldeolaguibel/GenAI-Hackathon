{
  "cells": [
    {
      "cell_type": "code",
      "execution_count": null,
      "metadata": {
        "id": "IkNCND3ULQYD"
      },
      "outputs": [],
      "source": [
        "# Line Wrapping\n",
        "from IPython.display import HTML, display\n",
        "\n",
        "def set_css():\n",
        "  display(HTML('''\n",
        "  <style>\n",
        "    pre {\n",
        "        white-space: pre-wrap;\n",
        "    }\n",
        "  </style>\n",
        "  '''))\n",
        "get_ipython().events.register('pre_run_cell', set_css)"
      ]
    },
    {
      "cell_type": "code",
      "execution_count": null,
      "metadata": {
        "colab": {
          "base_uri": "https://localhost:8080/",
          "height": 687
        },
        "id": "efDy4imPtamS",
        "outputId": "1747f27c-ec7e-4a9f-ec9f-3ecbf350f0e8"
      },
      "outputs": [
        {
          "data": {
            "text/html": [
              "\n",
              "  <style>\n",
              "    pre {\n",
              "        white-space: pre-wrap;\n",
              "    }\n",
              "  </style>\n",
              "  "
            ],
            "text/plain": [
              "<IPython.core.display.HTML object>"
            ]
          },
          "metadata": {},
          "output_type": "display_data"
        },
        {
          "name": "stdout",
          "output_type": "stream",
          "text": [
            "Collecting openai\n",
            "  Downloading openai-1.7.2-py3-none-any.whl (212 kB)\n",
            "\u001b[2K     \u001b[90m━━━━━━━━━━━━━━━━━━━━━━━━━━━━━━━━━━━━━━━━\u001b[0m \u001b[32m212.1/212.1 kB\u001b[0m \u001b[31m1.6 MB/s\u001b[0m eta \u001b[36m0:00:00\u001b[0m\n",
            "\u001b[?25hRequirement already satisfied: anyio<5,>=3.5.0 in /usr/local/lib/python3.10/dist-packages (from openai) (3.7.1)\n",
            "Requirement already satisfied: distro<2,>=1.7.0 in /usr/lib/python3/dist-packages (from openai) (1.7.0)\n",
            "Collecting httpx<1,>=0.23.0 (from openai)\n",
            "  Downloading httpx-0.26.0-py3-none-any.whl (75 kB)\n",
            "\u001b[2K     \u001b[90m━━━━━━━━━━━━━━━━━━━━━━━━━━━━━━━━━━━━━━━━\u001b[0m \u001b[32m75.9/75.9 kB\u001b[0m \u001b[31m5.0 MB/s\u001b[0m eta \u001b[36m0:00:00\u001b[0m\n",
            "\u001b[?25hRequirement already satisfied: pydantic<3,>=1.9.0 in /usr/local/lib/python3.10/dist-packages (from openai) (1.10.13)\n",
            "Requirement already satisfied: sniffio in /usr/local/lib/python3.10/dist-packages (from openai) (1.3.0)\n",
            "Requirement already satisfied: tqdm>4 in /usr/local/lib/python3.10/dist-packages (from openai) (4.66.1)\n",
            "Collecting typing-extensions<5,>=4.7 (from openai)\n",
            "  Downloading typing_extensions-4.9.0-py3-none-any.whl (32 kB)\n",
            "Requirement already satisfied: idna>=2.8 in /usr/local/lib/python3.10/dist-packages (from anyio<5,>=3.5.0->openai) (3.6)\n",
            "Requirement already satisfied: exceptiongroup in /usr/local/lib/python3.10/dist-packages (from anyio<5,>=3.5.0->openai) (1.2.0)\n",
            "Requirement already satisfied: certifi in /usr/local/lib/python3.10/dist-packages (from httpx<1,>=0.23.0->openai) (2023.11.17)\n",
            "Collecting httpcore==1.* (from httpx<1,>=0.23.0->openai)\n",
            "  Downloading httpcore-1.0.2-py3-none-any.whl (76 kB)\n",
            "\u001b[2K     \u001b[90m━━━━━━━━━━━━━━━━━━━━━━━━━━━━━━━━━━━━━━━━\u001b[0m \u001b[32m76.9/76.9 kB\u001b[0m \u001b[31m4.8 MB/s\u001b[0m eta \u001b[36m0:00:00\u001b[0m\n",
            "\u001b[?25hCollecting h11<0.15,>=0.13 (from httpcore==1.*->httpx<1,>=0.23.0->openai)\n",
            "  Downloading h11-0.14.0-py3-none-any.whl (58 kB)\n",
            "\u001b[2K     \u001b[90m━━━━━━━━━━━━━━━━━━━━━━━━━━━━━━━━━━━━━━━━\u001b[0m \u001b[32m58.3/58.3 kB\u001b[0m \u001b[31m1.8 MB/s\u001b[0m eta \u001b[36m0:00:00\u001b[0m\n",
            "\u001b[?25hInstalling collected packages: typing-extensions, h11, httpcore, httpx, openai\n",
            "  Attempting uninstall: typing-extensions\n",
            "    Found existing installation: typing_extensions 4.5.0\n",
            "    Uninstalling typing_extensions-4.5.0:\n",
            "      Successfully uninstalled typing_extensions-4.5.0\n",
            "\u001b[31mERROR: pip's dependency resolver does not currently take into account all the packages that are installed. This behaviour is the source of the following dependency conflicts.\n",
            "llmx 0.0.15a0 requires cohere, which is not installed.\n",
            "llmx 0.0.15a0 requires tiktoken, which is not installed.\n",
            "tensorflow-probability 0.22.0 requires typing-extensions<4.6.0, but you have typing-extensions 4.9.0 which is incompatible.\u001b[0m\u001b[31m\n",
            "\u001b[0mSuccessfully installed h11-0.14.0 httpcore-1.0.2 httpx-0.26.0 openai-1.7.2 typing-extensions-4.9.0\n"
          ]
        }
      ],
      "source": [
        "!pip install openai"
      ]
    },
    {
      "cell_type": "code",
      "execution_count": null,
      "metadata": {
        "colab": {
          "base_uri": "https://localhost:8080/",
          "height": 17
        },
        "id": "AIZsUd_PtSQ9",
        "outputId": "d372d759-64b9-4ac3-8699-093b4b1ed16c"
      },
      "outputs": [
        {
          "data": {
            "text/html": [
              "\n",
              "  <style>\n",
              "    pre {\n",
              "        white-space: pre-wrap;\n",
              "    }\n",
              "  </style>\n",
              "  "
            ],
            "text/plain": [
              "<IPython.core.display.HTML object>"
            ]
          },
          "metadata": {},
          "output_type": "display_data"
        }
      ],
      "source": [
        "from openai import OpenAI\n",
        "# Set your API key\n",
        "client = OpenAI(api_key=\"add_your_api_key_here\")"
      ]
    },
    {
      "cell_type": "code",
      "execution_count": null,
      "metadata": {
        "colab": {
          "base_uri": "https://localhost:8080/",
          "height": 17
        },
        "id": "mUroc6BPGgUD",
        "outputId": "4fb6b84f-0e75-416f-b79e-e36ed87bb23f"
      },
      "outputs": [
        {
          "data": {
            "text/html": [
              "\n",
              "  <style>\n",
              "    pre {\n",
              "        white-space: pre-wrap;\n",
              "    }\n",
              "  </style>\n",
              "  "
            ],
            "text/plain": [
              "<IPython.core.display.HTML object>"
            ]
          },
          "metadata": {},
          "output_type": "display_data"
        }
      ],
      "source": [
        "def get_response(prompt):\n",
        "  # Create a request to the chat completions endpoint\n",
        "  response = client.chat.completions.create(\n",
        "    model=\"gpt-3.5-turbo\",\n",
        "    # Assign the role and content for the message\n",
        "    messages=[{\"role\": \"user\", \"content\": prompt}],\n",
        "    temperature = 0\n",
        "    #seed = 123\n",
        "    )\n",
        "  return response.choices[0].message.content"
      ]
    },
    {
      "cell_type": "code",
      "execution_count": null,
      "metadata": {
        "colab": {
          "base_uri": "https://localhost:8080/",
          "height": 670
        },
        "id": "TIw1A5dtteUb",
        "outputId": "b1c76578-3f1a-4193-85ea-6ced1a677b24"
      },
      "outputs": [
        {
          "data": {
            "text/html": [
              "\n",
              "  <style>\n",
              "    pre {\n",
              "        white-space: pre-wrap;\n",
              "    }\n",
              "  </style>\n",
              "  "
            ],
            "text/plain": [
              "<IPython.core.display.HTML object>"
            ]
          },
          "metadata": {},
          "output_type": "display_data"
        },
        {
          "name": "stdout",
          "output_type": "stream",
          "text": [
            "Madrid is the capital and largest city of Spain, located in the heart of the country. Here are some key facts about Madrid:\n",
            "\n",
            "1. Historical Significance: Madrid has a rich history dating back to the 9th century when it was established as a fortress. It became the capital of Spain in the 16th century and has since played a significant role in shaping the country's culture, politics, and economy.\n",
            "\n",
            "2. Vibrant Culture: Madrid is known for its vibrant and lively culture. The city is home to numerous art galleries, museums, theaters, and music venues. It hosts world-class events like the annual Madrid International Film Festival and is famous for its flamenco music and dance.\n",
            "\n",
            "3. Architectural Marvels: Madrid boasts a diverse architectural landscape. The Royal Palace of Madrid, a stunning 18th-century palace, is one of the city's most iconic landmarks. Other notable architectural gems include the Prado Museum, Puerta de Alcalá, Plaza Mayor, and Gran Vía.\n",
            "\n",
            "4. Culinary Delights: Madrid is a food lover's paradise. The city offers a wide range of traditional Spanish cuisine, including tapas, paella, churros, and cocido madrileño (a hearty stew). The Mercado de San Miguel, a popular food market, is a must-visit for sampling local delicacies.\n",
            "\n",
            "5. Parks and Green Spaces: Madrid is known for its beautiful parks and green spaces. The Retiro Park, a vast parkland with a boating lake and stunning gardens, is a favorite spot for locals and tourists alike. Casa de Campo, Madrid Río, and El Capricho Park are other popular green areas.\n",
            "\n",
            "6. Football Fever: Madrid is home to two of the world's most successful football clubs, Real Madrid and Atlético Madrid. The city's passion for football is evident in the intense rivalry between these teams and the electric atmosphere during matches at Santiago Bernabéu and Wanda Metropolitano stadiums.\n",
            "\n",
            "7. Festivals and Celebrations: Madrid hosts numerous festivals throughout the year. The most famous is the San Isidro Festival, dedicated to the city's patron saint, featuring traditional music, dance, and bullfighting. Other notable celebrations include the Three Kings Parade, Pride Parade, and La Paloma Festival.\n",
            "\n",
            "8. Transportation Hub: Madrid is a major transportation hub with excellent connectivity. It has a well-developed public transportation system, including an extensive metro network, buses, and trains. The city is also served by the Madrid-Barajas Airport, one of the busiest airports in Europe.\n",
            "\n",
            "Overall, Madrid offers a unique blend of history, culture, gastronomy, and entertainment, making it a captivating destination for travelers from around the world.\n"
          ]
        }
      ],
      "source": [
        "# Test the function with your prompt\n",
        "response = get_response(\"What can you tell me about Madrid?\")\n",
        "print(response)"
      ]
    },
    {
      "cell_type": "markdown",
      "metadata": {
        "id": "hx-EW8hZKQwU"
      },
      "source": [
        "# 1.-Appropriate action verbs"
      ]
    },
    {
      "cell_type": "code",
      "execution_count": null,
      "metadata": {
        "colab": {
          "base_uri": "https://localhost:8080/",
          "height": 687
        },
        "id": "Wx0212FEKT8q",
        "outputId": "f149219f-ccef-4292-e77b-5b6ee01f1fdf"
      },
      "outputs": [
        {
          "data": {
            "text/html": [
              "\n",
              "  <style>\n",
              "    pre {\n",
              "        white-space: pre-wrap;\n",
              "    }\n",
              "  </style>\n",
              "  "
            ],
            "text/plain": [
              "<IPython.core.display.HTML object>"
            ]
          },
          "metadata": {},
          "output_type": "display_data"
        },
        {
          "name": "stdout",
          "output_type": "stream",
          "text": [
            "Deforestation is a critical environmental issue that involves the clearing, destruction, or removal of forests or wooded areas. It has significant implications for the planet, including climate change, loss of biodiversity, soil erosion, and disruption of local communities.\n",
            "\n",
            "One of the primary causes of deforestation is human activities, particularly for agricultural purposes. Large-scale commercial agriculture, such as palm oil plantations or cattle ranching, often leads to the clearing of vast forested areas. Additionally, logging for timber, fuelwood, and paper production contributes to deforestation.\n",
            "\n",
            "The consequences of deforestation are far-reaching. Firstly, forests act as carbon sinks, absorbing carbon dioxide from the atmosphere and helping mitigate climate change. When forests are cleared, this stored carbon is released back into the atmosphere, exacerbating global warming. Deforestation also disrupts the water cycle, leading to reduced rainfall and increased droughts in affected regions.\n",
            "\n",
            "Moreover, forests are home to a significant portion of the world's biodiversity. Deforestation destroys habitats, displaces countless species, and threatens their survival. The loss of biodiversity can disrupt ecosystems, impacting pollination, seed dispersal, and natural pest control, which are essential for agriculture and food production.\n",
            "\n",
            "Deforestation also contributes to soil erosion, as tree roots help bind the soil together. Without trees, rainwater washes away the topsoil, leading to reduced fertility and agricultural productivity. This can have severe consequences for local communities that rely on forests for their livelihoods, food, and resources.\n",
            "\n",
            "Addressing deforestation requires a multi-faceted approach. Governments and international organizations must enforce stricter regulations and policies to prevent illegal logging and unsustainable land-use practices. Promoting sustainable agriculture and supporting alternative livelihoods for local communities can help reduce the pressure on forests.\n",
            "\n",
            "Furthermore, reforestation and afforestation efforts are crucial to restore and expand forest cover. Planting trees not only helps combat climate change by absorbing carbon dioxide but also provides habitats for wildlife, improves water retention, and supports local economies through sustainable forestry practices.\n",
            "\n",
            "Raising awareness and educating the public about the importance of forests and the consequences of deforestation is also essential. Individuals can contribute by making conscious choices, such as supporting sustainable and certified wood products, reducing paper consumption, and advocating for responsible land-use practices.\n",
            "\n",
            "In conclusion, deforestation is a pressing issue that demands immediate attention. It is crucial to recognize the value of forests beyond their economic benefits and prioritize their conservation for the well-being of the planet and future generations.\n"
          ]
        }
      ],
      "source": [
        "prompt = \"Think about the issue of deforestation.\"\n",
        "response = get_response(prompt)\n",
        "print(response)"
      ]
    },
    {
      "cell_type": "code",
      "execution_count": null,
      "metadata": {
        "id": "dLbuldpFLeKa"
      },
      "outputs": [],
      "source": [
        "prompt = \"Propose strategies to reduce deforestation.\"\n",
        "response = get_response(prompt)\n",
        "print(response)"
      ]
    },
    {
      "cell_type": "markdown",
      "metadata": {
        "id": "Jkiusz5HHJqQ"
      },
      "source": [
        "# 2.-Detailed instructions and adopting a persona"
      ]
    },
    {
      "cell_type": "code",
      "execution_count": null,
      "metadata": {
        "colab": {
          "base_uri": "https://localhost:8080/",
          "height": 246
        },
        "id": "QnGx9AdhyDA2",
        "outputId": "5976c4e7-9a3f-4db0-b934-eb629dcc5d41"
      },
      "outputs": [
        {
          "data": {
            "text/html": [
              "\n",
              "  <style>\n",
              "    pre {\n",
              "        white-space: pre-wrap;\n",
              "    }\n",
              "  </style>\n",
              "  "
            ],
            "text/plain": [
              "<IPython.core.display.HTML object>"
            ]
          },
          "metadata": {},
          "output_type": "display_data"
        },
        {
          "name": "stdout",
          "output_type": "stream",
          "text": [
            "\n",
            " Original story: \n",
            " Madrid is the capital and largest city of Spain,\n",
            "\n",
            " Generated story: \n",
            " where the sun shines brightly upon the bustling streets and the people's hearts are filled with passion. In this vibrant city, where art and culture thrive, there lived a young and ambitious nobleman named Rodrigo. He was known for his wit and charm, captivating all who crossed his path.\n",
            "\n",
            "Rodrigo's days were spent in the grand halls of the royal court, where he dazzled the courtiers with his eloquent speeches and quick thinking. But deep within his heart, he yearned for something more. He longed for adventure and a chance to prove himself worthy of the great tales sung by bards. Little did he know that fate had a grand plan in store for him, one that would take him on a journey beyond his wildest dreams.\n"
          ]
        }
      ],
      "source": [
        "story = \"Madrid is the capital and largest city of Spain,\"\n",
        "\n",
        "# Create a request to complete the story\n",
        "prompt = f\"\"\"Complete the story delimited by triple backticks with only two paragraphs using the style of William Shakespeare.\n",
        " ```{story}```\"\"\"\n",
        "\n",
        "# Get the generated response\n",
        "response = get_response(prompt)\n",
        "\n",
        "print(\"\\n Original story: \\n\", story)\n",
        "print(\"\\n Generated story: \\n\", response)"
      ]
    },
    {
      "cell_type": "code",
      "execution_count": null,
      "metadata": {
        "colab": {
          "base_uri": "https://localhost:8080/",
          "height": 211
        },
        "id": "jrqBqK2dOWgx",
        "outputId": "07099827-db54-440d-a07f-90f372a9d83f"
      },
      "outputs": [
        {
          "data": {
            "text/html": [
              "\n",
              "  <style>\n",
              "    pre {\n",
              "        white-space: pre-wrap;\n",
              "    }\n",
              "  </style>\n",
              "  "
            ],
            "text/plain": [
              "<IPython.core.display.HTML object>"
            ]
          },
          "metadata": {},
          "output_type": "display_data"
        },
        {
          "name": "stdout",
          "output_type": "stream",
          "text": [
            "\n",
            " Original story: \n",
            " Madrid, the vibrant heart of Spain, is not just a geographical entity but a living mosaic of history and modernity.As one of Europe's most dynamic capitals, it dances to the rhythm of daily life that seamlessly blends tradition with contemporary flair.Culturally rich, Madrid is a treasure trove of museums, historic sites, and theaters, with the Prado Museum holding the city's artistic crown\n",
            "\n",
            " Summarized story: \n",
            " Madrid is a vibrant city in Spain that combines history and modernity. It is known for its dynamic atmosphere and the seamless blend of tradition and contemporary elements. The city is culturally rich, with numerous museums, historic sites, and theaters. The Prado Museum is particularly renowned for its art collection.\n"
          ]
        }
      ],
      "source": [
        "story = \"Madrid, the vibrant heart of Spain, is not just a geographical entity but a living mosaic of history and modernity.\\\n",
        "As one of Europe's most dynamic capitals, it dances to the rhythm of daily life that seamlessly blends tradition with contemporary flair.\\\n",
        "Culturally rich, Madrid is a treasure trove of museums, historic sites, and theaters, with the Prado Museum holding the city's artistic crown\"\n",
        "#  Create a request to complete the story\n",
        "prompt = f\"\"\"Summarize the text delimited by triple backticks\n",
        " ```{story}```\"\"\"\n",
        "\n",
        "# Get the generated response\n",
        "response = get_response(prompt)\n",
        "\n",
        "print(\"\\n Original story: \\n\", story)\n",
        "print(\"\\n Summarized story: \\n\", response)"
      ]
    },
    {
      "cell_type": "markdown",
      "metadata": {
        "id": "Z6kV4dKLLnlq"
      },
      "source": [
        "# 3.-Precise Descriptions"
      ]
    },
    {
      "cell_type": "code",
      "execution_count": null,
      "metadata": {
        "colab": {
          "base_uri": "https://localhost:8080/",
          "height": 70
        },
        "id": "Mfj-p-6oL3CT",
        "outputId": "a602aab4-6542-42af-9c54-ce51893c0cc0"
      },
      "outputs": [
        {
          "data": {
            "text/html": [
              "\n",
              "  <style>\n",
              "    pre {\n",
              "        white-space: pre-wrap;\n",
              "    }\n",
              "  </style>\n",
              "  "
            ],
            "text/plain": [
              "<IPython.core.display.HTML object>"
            ]
          },
          "metadata": {},
          "output_type": "display_data"
        },
        {
          "name": "stdout",
          "output_type": "stream",
          "text": [
            "Prompt engineering is the process of designing and crafting effective prompts or questions that elicit desired responses or actions from individuals. It involves careful consideration of language, structure, and context to optimize the clarity and impact of the prompt.\n"
          ]
        }
      ],
      "source": [
        "prompt = \"Write a two sentence text explaining prompt engineering.\"\n",
        "response = get_response(prompt)\n",
        "print(response)"
      ]
    },
    {
      "cell_type": "markdown",
      "metadata": {
        "id": "Gm-0wEmkzaAk"
      },
      "source": [
        "# 4.-Well Structured and delimited prompts"
      ]
    },
    {
      "cell_type": "code",
      "execution_count": null,
      "metadata": {
        "colab": {
          "base_uri": "https://localhost:8080/"
        },
        "id": "kuDjUq4hzF_B",
        "outputId": "2527a6d1-a478-4c82-8c35-cb26eeb81345"
      },
      "outputs": [
        {
          "name": "stdout",
          "output_type": "stream",
          "text": [
            "Title              | Year | Rating\n",
            "-------------------|------|-------\n",
            "Mad Max: Fury Road | 2015 | 8.1/10\n",
            "John Wick          | 2014 | 7.4/10\n",
            "Die Hard           | 1988 | 8.2/10\n",
            "The Dark Knight    | 2008 | 9.0/10\n",
            "Mission: Impossible - Fallout | 2018 | 7.7/10\n"
          ]
        }
      ],
      "source": [
        "prompt = \"Generate a table containing 5 movies I should watch if I am an action lover, with columns for Title, Year and Rating\"\n",
        "print(get_response(prompt))"
      ]
    },
    {
      "cell_type": "code",
      "execution_count": null,
      "metadata": {
        "colab": {
          "base_uri": "https://localhost:8080/"
        },
        "id": "fR1cpKpWziv2",
        "outputId": "9f0fb798-4083-49a9-9b65-09e4773a1045"
      },
      "outputs": [
        {
          "name": "stdout",
          "output_type": "stream",
          "text": [
            "1. Italy\n",
            "2. Japan\n",
            "3. Australia\n",
            "4. France\n",
            "5. Canada\n"
          ]
        }
      ],
      "source": [
        "prompt = \"Generate a list with the names top 5 countries to visit\"\n",
        "print(get_response(prompt))"
      ]
    },
    {
      "cell_type": "code",
      "execution_count": null,
      "metadata": {
        "colab": {
          "base_uri": "https://localhost:8080/"
        },
        "id": "wd4AUQpWz-G1",
        "outputId": "8d0c20a3-c12b-442f-bf35-64a2602c7006"
      },
      "outputs": [
        {
          "name": "stdout",
          "output_type": "stream",
          "text": [
            "- Italy\n",
            "- Japan\n",
            "- Australia\n",
            "- Greece\n",
            "- Canada\n"
          ]
        }
      ],
      "source": [
        "prompt = \"Generate an unorderes list with the names top 5 countries to visit\"\n",
        "print(get_response(prompt))"
      ]
    },
    {
      "cell_type": "code",
      "execution_count": null,
      "metadata": {
        "id": "fi8foyE00Hac"
      },
      "outputs": [],
      "source": [
        "prompt = \"Provide a structured paragraph with clear headings and subheadings about the benefit of regular exercise on overall health and well-being\"\n",
        "print(get_response(prompt))"
      ]
    },
    {
      "cell_type": "markdown",
      "metadata": {
        "id": "_nF3UHFMOCM0"
      },
      "source": [
        "# Conditional Prompts"
      ]
    },
    {
      "cell_type": "code",
      "execution_count": null,
      "metadata": {
        "colab": {
          "base_uri": "https://localhost:8080/",
          "height": 35
        },
        "id": "6I7njpBy2OkM",
        "outputId": "b2a95815-8570-47d2-d5ed-35cf6e5361eb"
      },
      "outputs": [
        {
          "data": {
            "text/html": [
              "\n",
              "  <style>\n",
              "    pre {\n",
              "        white-space: pre-wrap;\n",
              "    }\n",
              "  </style>\n",
              "  "
            ],
            "text/plain": [
              "<IPython.core.display.HTML object>"
            ]
          },
          "metadata": {},
          "output_type": "display_data"
        },
        {
          "name": "stdout",
          "output_type": "stream",
          "text": [
            "Madrid: The Capital of Spain\n"
          ]
        }
      ],
      "source": [
        "text = \"Madrid is the capital of Spain\"\n",
        "\n",
        "prompt = f\"\"\"You will be provided with a text delimiter by triple backtips. If the text is written in english, suggest a title, othwerwise write 'I only understand English'.\n",
        "```{text}´´´\"\"\"\n",
        "print(get_response(prompt))"
      ]
    },
    {
      "cell_type": "markdown",
      "metadata": {
        "id": "hwY1nGHm2yfE"
      },
      "source": [
        "We can add multiple conditions"
      ]
    },
    {
      "cell_type": "code",
      "execution_count": null,
      "metadata": {
        "colab": {
          "base_uri": "https://localhost:8080/",
          "height": 35
        },
        "id": "vQAKLQve20jf",
        "outputId": "b1a98061-daad-48f6-b817-6182defb6f4b"
      },
      "outputs": [
        {
          "data": {
            "text/html": [
              "\n",
              "  <style>\n",
              "    pre {\n",
              "        white-space: pre-wrap;\n",
              "    }\n",
              "  </style>\n",
              "  "
            ],
            "text/plain": [
              "<IPython.core.display.HTML object>"
            ]
          },
          "metadata": {},
          "output_type": "display_data"
        },
        {
          "name": "stdout",
          "output_type": "stream",
          "text": [
            "I only understand English.\n"
          ]
        }
      ],
      "source": [
        "#text = \"I love using LLMS\"\n",
        "text = \"Madrid es la capital de España\"\n",
        "\n",
        "prompt = f\"\"\"You will be provided with a text delimiter by triple backtips. If the text is written in english and contains the word love, suggest a title, othwerwise write 'I only understand English'.\n",
        "```{text}´´´\"\"\"\n",
        "print(get_response(prompt))"
      ]
    },
    {
      "cell_type": "markdown",
      "metadata": {
        "id": "k4c33MxcSqYI"
      },
      "source": [
        "# Zero-Shot Prompting"
      ]
    },
    {
      "cell_type": "code",
      "execution_count": null,
      "metadata": {
        "colab": {
          "base_uri": "https://localhost:8080/",
          "height": 52
        },
        "id": "6bjE1vRYSxLN",
        "outputId": "e2198661-6aab-4b6a-8c50-1775cdc7073a"
      },
      "outputs": [
        {
          "data": {
            "text/html": [
              "\n",
              "  <style>\n",
              "    pre {\n",
              "        white-space: pre-wrap;\n",
              "    }\n",
              "  </style>\n",
              "  "
            ],
            "text/plain": [
              "<IPython.core.display.HTML object>"
            ]
          },
          "metadata": {},
          "output_type": "display_data"
        },
        {
          "name": "stdout",
          "output_type": "stream",
          "text": [
            "I'm sorry, but you haven't provided any text for me to classify. Could you please provide the text you would like me to classify into neutral, negative, or positive?\n"
          ]
        }
      ],
      "source": [
        "text = \"I think the vacation is okay.\"\n",
        "prompt = \"Classify the ```{text}´´´ into neutral, negative or positive.\"\n",
        "\n",
        "\n",
        "print(get_response(prompt))\n"
      ]
    },
    {
      "cell_type": "markdown",
      "metadata": {
        "id": "2ZuoZUSISJK0"
      },
      "source": [
        "# Few-Shot Prompting"
      ]
    },
    {
      "cell_type": "code",
      "execution_count": null,
      "metadata": {
        "colab": {
          "base_uri": "https://localhost:8080/",
          "height": 35
        },
        "id": "vrUJ2Y1tSNB3",
        "outputId": "9a5823df-9474-4db0-cf17-9715d72d9920"
      },
      "outputs": [
        {
          "data": {
            "text/html": [
              "\n",
              "  <style>\n",
              "    pre {\n",
              "        white-space: pre-wrap;\n",
              "    }\n",
              "  </style>\n",
              "  "
            ],
            "text/plain": [
              "<IPython.core.display.HTML object>"
            ]
          },
          "metadata": {},
          "output_type": "display_data"
        },
        {
          "name": "stdout",
          "output_type": "stream",
          "text": [
            "The answer is False.\n"
          ]
        }
      ],
      "source": [
        "prompt = \"\"\"The odd numbers in this group add up to an even number: 4, 8, 9, 15, 12, 2, 1.\n",
        "A: The answer is False.\n",
        "\n",
        "The odd numbers in this group add up to an even number: 17,  10, 19, 4, 8, 12, 24.\n",
        "A: The answer is True.\n",
        "\n",
        "The odd numbers in this group add up to an even number: 16,  11, 14, 4, 8, 13, 24.\n",
        "A: The answer is True.\n",
        "\n",
        "The odd numbers in this group add up to an even number: 17,  9, 10, 12, 13, 4, 2.\n",
        "A: The answer is False.\n",
        "\n",
        "The odd numbers in this group add up to an even number: 15, 32, 5, 13, 82, 7, 1.\n",
        "A:\"\"\"\n",
        "\n",
        "response = get_response(prompt)\n",
        "print(response)"
      ]
    },
    {
      "cell_type": "markdown",
      "metadata": {
        "id": "Uw0c1C44SNVJ"
      },
      "source": [
        "# Chain-of-Though (CoT) Prompting"
      ]
    },
    {
      "cell_type": "code",
      "execution_count": null,
      "metadata": {
        "colab": {
          "base_uri": "https://localhost:8080/",
          "height": 35
        },
        "id": "18YjbzxfSTU7",
        "outputId": "dc22210f-3eb8-4472-ce59-a7e6bed56e85"
      },
      "outputs": [
        {
          "data": {
            "text/html": [
              "\n",
              "  <style>\n",
              "    pre {\n",
              "        white-space: pre-wrap;\n",
              "    }\n",
              "  </style>\n",
              "  "
            ],
            "text/plain": [
              "<IPython.core.display.HTML object>"
            ]
          },
          "metadata": {},
          "output_type": "display_data"
        },
        {
          "name": "stdout",
          "output_type": "stream",
          "text": [
            "Adding all the odd numbers (15, 5, 13, 7, 1) gives 41. The answer is False.\n"
          ]
        }
      ],
      "source": [
        "prompt = \"\"\"The odd numbers in this group add up to an even number: 4, 8, 9, 15, 12, 2, 1.\n",
        "A: Adding all the odd numbers (9, 15, 1) gives 25. The answer is False.\n",
        "\n",
        "The odd numbers in this group add up to an even number: 15, 32, 5, 13, 82, 7, 1.\n",
        "A:\"\"\"\n",
        "response = get_response(prompt)\n",
        "print(response)"
      ]
    },
    {
      "cell_type": "markdown",
      "metadata": {
        "id": "8W9ILIZQSTta"
      },
      "source": [
        "# Zero-Shot CoT"
      ]
    },
    {
      "cell_type": "code",
      "execution_count": null,
      "metadata": {
        "colab": {
          "base_uri": "https://localhost:8080/",
          "height": 141
        },
        "id": "oJgUNBWJSZF2",
        "outputId": "69f9d3b7-31b7-45ba-f8c8-fe9107b8abce"
      },
      "outputs": [
        {
          "data": {
            "text/html": [
              "\n",
              "  <style>\n",
              "    pre {\n",
              "        white-space: pre-wrap;\n",
              "    }\n",
              "  </style>\n",
              "  "
            ],
            "text/plain": [
              "<IPython.core.display.HTML object>"
            ]
          },
          "metadata": {},
          "output_type": "display_data"
        },
        {
          "name": "stdout",
          "output_type": "stream",
          "text": [
            "Step 1: Bought 10 apples.\n",
            "Step 2: Gave 2 apples to the neighbor. Remaining apples: 10 - 2 = 8 apples.\n",
            "Step 3: Gave 2 apples to the repairman. Remaining apples: 8 - 2 = 6 apples.\n",
            "Step 4: Bought 5 more apples. Total apples: 6 + 5 = 11 apples.\n",
            "Step 5: Ate 1 apple. Remaining apples: 11 - 1 = 10 apples.\n",
            "\n",
            "Therefore, you remained with 10 apples.\n"
          ]
        }
      ],
      "source": [
        "prompt = \"\"\"I went to the market and bought 10 apples. I gave 2 apples to the neighbor and 2 to the repairman. I then went and bought 5 more apples and ate 1. How many apples did I remain with?\n",
        "Let's think step by step.\"\"\"\n",
        "response = get_response(prompt)\n",
        "print(response)"
      ]
    },
    {
      "cell_type": "markdown",
      "metadata": {
        "id": "9JTNBO2j3tLs"
      },
      "source": [
        "# Chain of thought prompting advanced examples: Customer Service"
      ]
    },
    {
      "cell_type": "code",
      "execution_count": null,
      "metadata": {
        "id": "RSnbkxWp4Lr7"
      },
      "outputs": [],
      "source": [
        "def get_completion_from_messages(messages,\n",
        "                                 model=\"gpt-3.5-turbo\",\n",
        "                                 temperature=0, max_tokens=500):\n",
        "  response = client.chat.completions.create(\n",
        "        model=model,\n",
        "        messages=messages,\n",
        "        temperature=temperature,\n",
        "        max_tokens=max_tokens,\n",
        "    )\n",
        "  return response.choices[0].message.content"
      ]
    },
    {
      "cell_type": "code",
      "execution_count": null,
      "metadata": {
        "id": "B8MJ2YxG3o4a"
      },
      "outputs": [],
      "source": [
        "delimiter = \"####\"\n",
        "system_message = f\"\"\"\n",
        "Follow these steps to answer the customer queries.\n",
        "The customer query will be delimited with four hashtags,\\\n",
        "i.e. {delimiter}.\n",
        "\n",
        "Step 1:{delimiter} First decide whether the user is \\\n",
        "asking a question about a specific product or products. \\\n",
        "Product cateogry doesn't count.\n",
        "\n",
        "Step 2:{delimiter} If the user is asking about \\\n",
        "specific products, identify whether \\\n",
        "the products are in the following list.\n",
        "All available products:\n",
        "1. Product: TechPro Ultrabook\n",
        "   Category: Computers and Laptops\n",
        "   Brand: TechPro\n",
        "   Model Number: TP-UB100\n",
        "   Warranty: 1 year\n",
        "   Rating: 4.5\n",
        "   Features: 13.3-inch display, 8GB RAM, 256GB SSD, Intel Core i5 processor\n",
        "   Description: A sleek and lightweight ultrabook for everyday use.\n",
        "   Price: $799.99\n",
        "\n",
        "2. Product: BlueWave Gaming Laptop\n",
        "   Category: Computers and Laptops\n",
        "   Brand: BlueWave\n",
        "   Model Number: BW-GL200\n",
        "   Warranty: 2 years\n",
        "   Rating: 4.7\n",
        "   Features: 15.6-inch display, 16GB RAM, 512GB SSD, NVIDIA GeForce RTX 3060\n",
        "   Description: A high-performance gaming laptop for an immersive experience.\n",
        "   Price: $1199.99\n",
        "\n",
        "3. Product: PowerLite Convertible\n",
        "   Category: Computers and Laptops\n",
        "   Brand: PowerLite\n",
        "   Model Number: PL-CV300\n",
        "   Warranty: 1 year\n",
        "   Rating: 4.3\n",
        "   Features: 14-inch touchscreen, 8GB RAM, 256GB SSD, 360-degree hinge\n",
        "   Description: A versatile convertible laptop with a responsive touchscreen.\n",
        "   Price: $699.99\n",
        "\n",
        "4. Product: TechPro Desktop\n",
        "   Category: Computers and Laptops\n",
        "   Brand: TechPro\n",
        "   Model Number: TP-DT500\n",
        "   Warranty: 1 year\n",
        "   Rating: 4.4\n",
        "   Features: Intel Core i7 processor, 16GB RAM, 1TB HDD, NVIDIA GeForce GTX 1660\n",
        "   Description: A powerful desktop computer for work and play.\n",
        "   Price: $999.99\n",
        "\n",
        "5. Product: BlueWave Chromebook\n",
        "   Category: Computers and Laptops\n",
        "   Brand: BlueWave\n",
        "   Model Number: BW-CB100\n",
        "   Warranty: 1 year\n",
        "   Rating: 4.1\n",
        "   Features: 11.6-inch display, 4GB RAM, 32GB eMMC, Chrome OS\n",
        "   Description: A compact and affordable Chromebook for everyday tasks.\n",
        "   Price: $249.99\n",
        "\n",
        "Step 3:{delimiter} If the message contains products \\\n",
        "in the list above, list any assumptions that the \\\n",
        "user is making in their \\\n",
        "message e.g. that Laptop X is bigger than \\\n",
        "Laptop Y, or that Laptop Z has a 2 year warranty.\n",
        "\n",
        "Step 4:{delimiter}: If the user made any assumptions, \\\n",
        "figure out whether the assumption is true based on your \\\n",
        "product information.\n",
        "\n",
        "Step 5:{delimiter}: First, politely correct the \\\n",
        "customer's incorrect assumptions if applicable. \\\n",
        "Only mention or reference products in the list of \\\n",
        "5 available products, as these are the only 5 \\\n",
        "products that the store sells. \\\n",
        "Answer the customer in a friendly tone.\n",
        "\n",
        "Use the following format:\n",
        "Step 1:{delimiter} <step 1 reasoning>\n",
        "Step 2:{delimiter} <step 2 reasoning>\n",
        "Step 3:{delimiter} <step 3 reasoning>\n",
        "Step 4:{delimiter} <step 4 reasoning>\n",
        "Response to user:{delimiter} <response to customer>\n",
        "\n",
        "Make sure to include {delimiter} to separate every step.\n",
        "\"\"\""
      ]
    },
    {
      "cell_type": "code",
      "execution_count": null,
      "metadata": {
        "colab": {
          "base_uri": "https://localhost:8080/"
        },
        "id": "KHZzqjB335hX",
        "outputId": "b8ef0e3d-9191-4c87-cba0-195c1268643b"
      },
      "outputs": [
        {
          "name": "stdout",
          "output_type": "stream",
          "text": [
            "Step 1:#### The user is asking about the price difference between the BlueWave Chromebook and the TechPro Desktop.\n",
            "\n",
            "Step 2:#### Both the BlueWave Chromebook and the TechPro Desktop are available products.\n",
            "\n",
            "Step 3:#### The user assumes that the BlueWave Chromebook is more expensive than the TechPro Desktop.\n",
            "\n",
            "Step 4:#### Based on the product information, the price of the BlueWave Chromebook is $249.99, and the price of the TechPro Desktop is $999.99. Therefore, the TechPro Desktop is actually more expensive than the BlueWave Chromebook.\n",
            "\n",
            "Response to user:#### The BlueWave Chromebook is actually less expensive than the TechPro Desktop. The BlueWave Chromebook is priced at $249.99, while the TechPro Desktop is priced at $999.99.\n"
          ]
        }
      ],
      "source": [
        "user_message = f\"\"\"\n",
        "by how much is the BlueWave Chromebook more expensive \\\n",
        "than the TechPro Desktop\"\"\"\n",
        "\n",
        "messages =  [\n",
        "{'role':'system',\n",
        " 'content': system_message},\n",
        "{'role':'user',\n",
        " 'content': f\"{delimiter}{user_message}{delimiter}\"},\n",
        "]\n",
        "\n",
        "response = get_completion_from_messages(messages)\n",
        "print(response)"
      ]
    },
    {
      "cell_type": "code",
      "execution_count": null,
      "metadata": {
        "colab": {
          "base_uri": "https://localhost:8080/"
        },
        "id": "Y_2nwDyU37_Z",
        "outputId": "f1f98864-39d7-4da6-f553-7a14e62be1c4"
      },
      "outputs": [
        {
          "name": "stdout",
          "output_type": "stream",
          "text": [
            "Step 1:#### The user is asking about the price comparison between the Lenovo S540 and the TechPro Desktop.\n",
            "\n",
            "Step 2:#### The Lenovo S540 and the TechPro Desktop are not included in the list of available products. Therefore, we cannot provide specific information about their prices.\n",
            "\n",
            "Response to user:#### I'm sorry, but I don't have information about the price of the Lenovo S540 compared to the TechPro Desktop. However, I can provide information about the prices of the available products if you are interested.\n"
          ]
        }
      ],
      "source": [
        "user_message = f\"\"\"\n",
        "how expensive is Lenovo S540 compared to the TechPro Desktop\"\"\"\n",
        "\n",
        "messages =  [\n",
        "{'role':'system',\n",
        " 'content': system_message},\n",
        "{'role':'user',\n",
        " 'content': f\"{delimiter}{user_message}{delimiter}\"},\n",
        "]\n",
        "\n",
        "response = get_completion_from_messages(messages)\n",
        "print(response)"
      ]
    },
    {
      "cell_type": "code",
      "execution_count": null,
      "metadata": {
        "colab": {
          "base_uri": "https://localhost:8080/"
        },
        "id": "MSlsJK_t4EFB",
        "outputId": "6ba66df9-0774-414f-d16a-fee62558b291"
      },
      "outputs": [
        {
          "name": "stdout",
          "output_type": "stream",
          "text": [
            "Step 1:#### The user is asking if the store sells TVs, which is a question about a specific product category.\n",
            "\n",
            "Step 2:#### TVs are not included in the list of available products. The store only sells computers and laptops.\n",
            "\n",
            "Response to user:#### I'm sorry, but we currently do not sell TVs. Our store specializes in computers and laptops. If you have any questions or need assistance with our available products, feel free to ask.\n"
          ]
        }
      ],
      "source": [
        "user_message = f\"\"\"\n",
        "do you sell tvs\"\"\"\n",
        "messages =  [\n",
        "{'role':'system',\n",
        " 'content': system_message},\n",
        "{'role':'user',\n",
        " 'content': f\"{delimiter}{user_message}{delimiter}\"},\n",
        "]\n",
        "response = get_completion_from_messages(messages)\n",
        "print(response)"
      ]
    },
    {
      "cell_type": "markdown",
      "metadata": {
        "id": "32uIBhgKRVxU"
      },
      "source": [
        "# Car Rental Assistant"
      ]
    },
    {
      "cell_type": "code",
      "execution_count": null,
      "metadata": {
        "colab": {
          "base_uri": "https://localhost:8080/",
          "height": 17
        },
        "id": "FqUFU-hBRYZz",
        "outputId": "0587ab5c-937e-4bde-fd44-6de050d7bcb5"
      },
      "outputs": [
        {
          "data": {
            "text/html": [
              "\n",
              "  <style>\n",
              "    pre {\n",
              "        white-space: pre-wrap;\n",
              "    }\n",
              "  </style>\n",
              "  "
            ],
            "text/plain": [
              "<IPython.core.display.HTML object>"
            ]
          },
          "metadata": {},
          "output_type": "display_data"
        }
      ],
      "source": [
        "delimiter = \"####\"\n",
        "system_message = f\"\"\"\n",
        "Follow these steps to answer the customer queries regarding car rentals.\n",
        "The customer query will be delimited with four hashtags,\\\n",
        "i.e. {delimiter}.\n",
        "\n",
        "Step 1:{delimiter} Determine if the user is asking about specific rental car options or general information about car rentals.\n",
        "\n",
        "Step 2:{delimiter} If the user is asking about specific rental cars, identify if the cars are in the following list of available options:\n",
        "All available rental cars:\n",
        "1. Car: Economy Sedan\n",
        "   Category: Economy\n",
        "   Features: 4 seats, 2 luggage capacity, Air conditioning\n",
        "   Price: $30/day\n",
        "\n",
        "2. Car: Compact SUV\n",
        "   Category: SUV\n",
        "   Features: 5 seats, 3 luggage capacity, GPS included\n",
        "   Price: $45/day\n",
        "\n",
        "3. Car: Full-Size Sedan\n",
        "   Category: Full-Size\n",
        "   Features: 5 seats, 4 luggage capacity, Air conditioning\n",
        "   Price: $40/day\n",
        "\n",
        "4. Car: Luxury Convertible\n",
        "   Category: Luxury\n",
        "   Features: 4 seats, 2 luggage capacity, GPS included\n",
        "   Price: $70/day\n",
        "\n",
        "5. Car: Passenger Van\n",
        "   Category: Van\n",
        "   Features: 8 seats, 6 luggage capacity, Child seat option available\n",
        "   Price: $60/day\n",
        "\n",
        "Step 3:{delimiter} If the message contains cars in the list above, list any assumptions that the user is making in their message, such as specific features or pricing.\n",
        "\n",
        "Step 4:{delimiter} Determine whether the assumption is true based on your rental car information.\n",
        "\n",
        "Step 5:{delimiter} Politely correct any incorrect assumptions the customer may have. Only mention or reference cars in the list of available options, as these are the only cars available for rent. Answer the customer in a friendly and informative tone.\n",
        "\n",
        "Use the following format:\n",
        "Step 1:{delimiter} <step 1 reasoning>\n",
        "Step 2:{delimiter} <step 2 reasoning>\n",
        "Step 3:{delimiter} <step 3 reasoning>\n",
        "Step 4:{delimiter} <step 4 reasoning>\n",
        "Response to user:{delimiter} <response to customer>\n",
        "\n",
        "Make sure to include {delimiter} to separate every step.\n",
        "\"\"\"\n",
        "\n"
      ]
    },
    {
      "cell_type": "code",
      "execution_count": null,
      "metadata": {
        "colab": {
          "base_uri": "https://localhost:8080/",
          "height": 229
        },
        "id": "uNA1K15GRghn",
        "outputId": "58fabfbc-cea4-4408-a64e-764b5a707c96"
      },
      "outputs": [
        {
          "data": {
            "text/html": [
              "\n",
              "  <style>\n",
              "    pre {\n",
              "        white-space: pre-wrap;\n",
              "    }\n",
              "  </style>\n",
              "  "
            ],
            "text/plain": [
              "<IPython.core.display.HTML object>"
            ]
          },
          "metadata": {},
          "output_type": "display_data"
        },
        {
          "name": "stdout",
          "output_type": "stream",
          "text": [
            "Step 1:#### The user is asking about the price difference between the Luxury Convertible and the Economy Sedan.\n",
            "\n",
            "Step 2:#### The Luxury Convertible and the Economy Sedan are both available rental car options.\n",
            "\n",
            "Step 3:#### The assumption made by the user is that the Luxury Convertible is more expensive than the Economy Sedan.\n",
            "\n",
            "Step 4:#### The assumption is true. The Luxury Convertible is priced at $70/day, while the Economy Sedan is priced at $30/day.\n",
            "\n",
            "Response to user:#### The Luxury Convertible is $40 more expensive per day compared to the Economy Sedan. The Luxury Convertible is priced at $70/day, while the Economy Sedan is priced at $30/day.\n"
          ]
        }
      ],
      "source": [
        "user_message = f\"\"\"\n",
        "How much more expensive is the Luxury Convertible per day \\\n",
        "compared to the Economy Sedan?\"\"\"\n",
        "\n",
        "messages =  [\n",
        "{'role':'system',\n",
        " 'content': system_message},\n",
        "{'role':'user',\n",
        " 'content': f\"{delimiter}{user_message}{delimiter}\"},\n",
        "]\n",
        "\n",
        "response = get_completion_from_messages(messages)\n",
        "print(response)"
      ]
    }
  ],
  "metadata": {
    "colab": {
      "provenance": []
    },
    "kernelspec": {
      "display_name": "Python 3",
      "name": "python3"
    },
    "language_info": {
      "name": "python"
    }
  },
  "nbformat": 4,
  "nbformat_minor": 0
}
