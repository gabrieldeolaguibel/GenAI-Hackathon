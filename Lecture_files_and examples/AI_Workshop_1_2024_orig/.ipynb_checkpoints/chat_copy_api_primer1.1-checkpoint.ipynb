{
 "cells": [
  {
   "cell_type": "markdown",
   "id": "a30b6137-17ef-4f2d-8858-c49247077fca",
   "metadata": {},
   "source": [
    "## Welcome to this AI Workshop / Bootcamp\n",
    "\n",
    "#### This tutorial is written by Ikhlaq Sidhu\n",
    "#### The learning objective to use be able to use the OpenAI API, and to provide examples that can be used for different types of applications and products and services.\n"
   ]
  },
  {
   "cell_type": "code",
   "execution_count": null,
   "id": "7f7a629d-84f0-49cc-91fa-0d5c8a447f40",
   "metadata": {},
   "outputs": [],
   "source": [
    "# for reference, see https://platform.openai.com/docs/api-reference/introduction\n",
    "\n",
    "# before this code will work, you must do the following at a shell prompt:\n",
    "# pip install openai\n",
    "# from inside the notebook, try the following. \n",
    "#!pip install openai --upgrade --force-reinstall\n",
    "#!pip install openai\n",
    "# Note the '!' is a magic command to allow you to do it from the notebook. Don't use it from the shell\n",
    "\n",
    "#if you plan to use nodejs, then this will also be needed:\n",
    "#npm install openai@^4.0.0\n",
    "\n",
    "# this code uses my account for authentication.  If you develop code, \n",
    "# you should sign up for your own account at https://platform.openai.com/\n",
    "# then you can use a credit card and set limits (ie x euro or dollars per month maximum)\n",
    "# when you do this , you will get an api key and an organization key, \n",
    "# The organization key is in the settings menu area. The API key is in the API Keys menu area.\n"
   ]
  },
  {
   "cell_type": "code",
   "execution_count": null,
   "id": "d85de4a3-bd22-4384-b00e-ff8731ab069f",
   "metadata": {},
   "outputs": [],
   "source": [
    "# this is actual python code - you can try any commands here\n",
    "print ('What are the squares of integers 0 to 3:')\n",
    "for i in range(0,4): print (i,i**2)"
   ]
  },
  {
   "cell_type": "code",
   "execution_count": null,
   "id": "54b65f29-5f3f-481e-bb7c-c8ce874c7e2c",
   "metadata": {},
   "outputs": [],
   "source": [
    "# These keys is needed to \"login\" and \"authenticate\"\n",
    "# Read keys so they are not written in the code\n",
    "filename = 'api_key.txt'\n",
    "with open(filename, 'r') as file: \n",
    "    api_key = file.read().strip() #apikey\n",
    "    \n",
    "filename = 'api_org.txt'\n",
    "with open(filename, 'r') as file:\n",
    "    api_key2 = file.read().strip() #organization"
   ]
  },
  {
   "cell_type": "code",
   "execution_count": null,
   "id": "f172e2af-5102-4fa5-896d-de7f2840d471",
   "metadata": {},
   "outputs": [],
   "source": [
    "# We will create a client object using the OpenAI api to make requests\n",
    "# For this we need to use the keys so that is is authenticated and charges can be made\n",
    "# This is the more recent APY - for 'OpenAI', not 'openai'\n",
    "\n",
    "import os\n",
    "from openai import OpenAI\n",
    "myclient = OpenAI(api_key = api_key, organization=api_key2)"
   ]
  },
  {
   "cell_type": "code",
   "execution_count": null,
   "id": "0ffcd38a-d4ea-4b5a-922f-dff541e0b23c",
   "metadata": {},
   "outputs": [],
   "source": [
    "#For reference - this is the older api\n",
    "# it will not work anylonger if you have recently installed the openai API\n",
    "\n",
    "#import os\n",
    "#import openai\n",
    "\n",
    "#Authenticate  \n",
    "#openai.api_key = api_key  # this is the key    \n",
    "#openai.organization = api_key2  # this is the key\n",
    "\n",
    "#test\n",
    "#q = \"What is the captial city of Spain?\"\n",
    "#ans = openai.ChatCompletion.create(\n",
    "#  model=\"gpt-3.5-turbo\",\n",
    "#  messages=[\n",
    "#        {\"role\": \"user\", \"content\": q}\n",
    "#    ]\n",
    "#)\n",
    "#print(ans['choices'][0]['message']['content'])"
   ]
  },
  {
   "cell_type": "markdown",
   "id": "af2cdb0a-caed-463a-93da-dd0b74b0a65a",
   "metadata": {},
   "source": [
    "## We can use ChatGPT from code and get an answer to any question. \n",
    "#### This can be:\n",
    "#### * a question from a customer (like an agent)\n",
    "#### * a question for your own work\n",
    "#### * a service that is needed for your code... or more."
   ]
  },
  {
   "cell_type": "code",
   "execution_count": null,
   "id": "fc2a181b-6cff-4407-9989-a846bca1d25b",
   "metadata": {},
   "outputs": [],
   "source": [
    "#client = OpenAI()\n",
    "# This is an example of a chat completion\n",
    "# We can use it to answer a question\n",
    "\n",
    "response = myclient.chat.completions.create(\n",
    "  model=\"gpt-3.5-turbo\",\n",
    "  messages=[\n",
    "    {\"role\": \"system\", \"content\": \"You are a helpful assistant.\"},\n",
    "    {\"role\": \"user\", \"content\": \"Who won the world series in 2020? \"}\n",
    "  ]\n",
    ")\n",
    "print(response.choices[0].message.content)"
   ]
  },
  {
   "cell_type": "code",
   "execution_count": null,
   "id": "223a76f6-8f57-41f5-a56e-d01764bf1abb",
   "metadata": {},
   "outputs": [],
   "source": [
    "# What is the type of variable we are printing?\n",
    "print (type(response.choices[0].message))\n",
    "print (type(response.choices[0].message.content))"
   ]
  },
  {
   "cell_type": "code",
   "execution_count": null,
   "id": "2e73ef72-6a04-446f-b1c9-19a456bcd216",
   "metadata": {},
   "outputs": [],
   "source": []
  },
  {
   "cell_type": "code",
   "execution_count": null,
   "id": "89521b8e-45f2-4b61-9b96-e968d426e5d7",
   "metadata": {},
   "outputs": [],
   "source": [
    "print(type(response))\n",
    "print(response)"
   ]
  },
  {
   "cell_type": "code",
   "execution_count": null,
   "id": "ac4bdbdb-a881-47be-8f53-27ac30ce547d",
   "metadata": {},
   "outputs": [],
   "source": [
    "print(response.choices[0].message.content)"
   ]
  },
  {
   "cell_type": "code",
   "execution_count": null,
   "id": "642d8e0a-befc-4d6a-8c8c-260fbb79ba01",
   "metadata": {},
   "outputs": [],
   "source": [
    "# Let's ask another examle question: \n",
    "question = \"What are the most common cars?  I want a short list of 5 with 10 words per item\"\n",
    "response = myclient.chat.completions.create(\n",
    "  model=\"gpt-3.5-turbo\",\n",
    "  messages=[\n",
    "        {\"role\": \"user\", \"content\": question}\n",
    "    ]\n",
    ")\n",
    "print(response.choices[0].message.content)"
   ]
  },
  {
   "cell_type": "code",
   "execution_count": null,
   "id": "86f4dbc3-30ba-46fc-9c67-bc7c65cb2551",
   "metadata": {},
   "outputs": [],
   "source": [
    "# Let's time it so we know how long it takes:\n",
    "import timeit\n",
    "from timeit import default_timer as timer\n",
    "start = timer()\n",
    "\n",
    "question = \"What are the most common cars?  I want a short list of 5 with 10 words per item\"\n",
    "response = myclient.chat.completions.create(\n",
    "  model=\"gpt-3.5-turbo\",\n",
    "  messages=[\n",
    "        {\"role\": \"user\", \"content\": question}\n",
    "    ]\n",
    ")\n",
    "\n",
    "end = timer()\n",
    "print(response.choices[0].message.content)\n",
    "print('That took ',end - start,' seconds')"
   ]
  },
  {
   "cell_type": "code",
   "execution_count": null,
   "id": "c61deece-f777-4090-acef-a93e061a3061",
   "metadata": {},
   "outputs": [],
   "source": [
    "# Let's try the same question with another model, ie Chat GPT model 4.0:\n",
    "start = timer()\n",
    "question = \"What are the most common cars?  I want a short list of 5 with 10 words per item\"\n",
    "response = myclient.chat.completions.create(\n",
    "  model=\"gpt-4\",\n",
    "  messages=[\n",
    "        {\"role\": \"user\", \"content\": question}\n",
    "    ]\n",
    ")\n",
    "end = timer()\n",
    "print(response.choices[0].message.content)\n",
    "print('That took ',end - start,' seconds')"
   ]
  },
  {
   "cell_type": "markdown",
   "id": "27fde6aa-6d7e-4e7b-b5b4-a45a970af8f9",
   "metadata": {},
   "source": [
    "## Now we will ask it at our own prompt\n",
    "### This could be on your web site or within a chatbot"
   ]
  },
  {
   "cell_type": "code",
   "execution_count": null,
   "id": "06554afa-250a-49b3-b34d-b1e0ba19a018",
   "metadata": {},
   "outputs": [],
   "source": [
    "# Lets get an answer?\n",
    "q = input ('what do you want to know: ')\n",
    "answer = myclient.chat.completions.create(\n",
    "  model=\"gpt-3.5-turbo\",\n",
    "  messages=[\n",
    "        {\"role\": \"user\", \"content\": q}\n",
    "    ]\n",
    ")\n",
    "# try what is light made from?\n",
    "print(answer.choices[0].message.content)"
   ]
  },
  {
   "cell_type": "code",
   "execution_count": null,
   "id": "9ac02e15-cc7d-434c-b1bc-db30f50e030f",
   "metadata": {},
   "outputs": [],
   "source": [
    "# Sentiment analysis:\n",
    "statement1 = \"This carpet is never clean\"\n",
    "statement2 = \"You are very nice\"\n",
    "\n",
    "q = \"what is the sentiment of \" + statement2 + \". Anser in one lower case word.\"\n",
    "answer = myclient.chat.completions.create(\n",
    "  model=\"gpt-3.5-turbo\",\n",
    "  messages=[\n",
    "        {\"role\": \"user\", \"content\": q}\n",
    "    ]\n",
    ")\n",
    "print(answer.choices[0].message.content)"
   ]
  },
  {
   "cell_type": "code",
   "execution_count": null,
   "id": "742b9298-ad2b-42b5-a9ed-f89f47ce04bc",
   "metadata": {},
   "outputs": [],
   "source": [
    "# Sentiment analysis:\n",
    "statement1 = \"This hotel is dirty\"\n",
    "statement2 = \"You are very nice\"\n",
    "instruct = \"You are a sentiment analyzer. \\\n",
    "Answer with the user sentiment with one lowercase word\"\n",
    "\n",
    "q = statement1 \n",
    "answer = myclient.chat.completions.create(\n",
    "  model=\"gpt-3.5-turbo\",\n",
    "  messages=[\n",
    "        {\"role\": \"system\", \"content\": instruct},\n",
    "        {\"role\": \"user\", \"content\": q}\n",
    "    ]\n",
    ")\n",
    "print(answer.choices[0].message.content)"
   ]
  },
  {
   "cell_type": "code",
   "execution_count": null,
   "id": "995c2104-8624-4a4e-8c5b-c3c8d3327fef",
   "metadata": {},
   "outputs": [],
   "source": [
    "# easy to translate languages\n",
    "statement = \"You look great\"\n",
    "q = \"how do you say this in Spanish:\" + statement \n",
    "\n",
    "answer = myclient.chat.completions.create(\n",
    "  model=\"gpt-3.5-turbo\",\n",
    "  messages=[\n",
    "        {\"role\": \"user\", \"content\": q}\n",
    "    ]\n",
    ")\n",
    "print(answer.choices[0].message.content)"
   ]
  },
  {
   "cell_type": "code",
   "execution_count": null,
   "id": "4e65d184-2b4a-4b68-bf05-9be8a4988649",
   "metadata": {},
   "outputs": [],
   "source": [
    "q = \"write a tagline for a Ferrari with 15 words or less.  Use the word Ferrari\"\n",
    "\n",
    "answer = myclient.chat.completions.create(\n",
    "  model=\"gpt-3.5-turbo\",\n",
    "  messages=[\n",
    "        {\"role\": \"user\", \"content\": q}\n",
    "    ]\n",
    ")\n",
    "tagline = answer.choices[0].message.content\n",
    "print(tagline)"
   ]
  },
  {
   "cell_type": "markdown",
   "id": "1387eb81-ce05-4a55-bc91-da65b3ce4b1c",
   "metadata": {},
   "source": [
    "## Lets create / generate a picture - inside our code"
   ]
  },
  {
   "cell_type": "code",
   "execution_count": null,
   "id": "ee17d43e-f91d-4f66-a70d-446ed4d4437a",
   "metadata": {},
   "outputs": [],
   "source": [
    "# Use the tagline from the last example.  Also can use dall-e-3 model\n",
    "pic = myclient.images.generate(\n",
    "  model=\"dall-e-3\",\n",
    "  prompt=tagline,\n",
    "  n=1,\n",
    "  size=\"1024x1024\"\n",
    ")\n",
    "image_url = pic.data[0].url\n",
    "print(image_url)"
   ]
  },
  {
   "cell_type": "code",
   "execution_count": null,
   "id": "9da66889-8c81-405d-8716-076419dae707",
   "metadata": {},
   "outputs": [],
   "source": [
    "# Example from OpenAI documentation\n",
    "# https://platform.openai.com/docs/guides/images/usage\n",
    "pic = myclient.images.generate(\n",
    "  model=\"dall-e-3\",\n",
    "  prompt=\"A cute baby sea otter\",\n",
    "  n=1,\n",
    "  size=\"1024x1024\"\n",
    ")\n",
    "image_url = pic.data[0].url\n",
    "print(image_url)"
   ]
  },
  {
   "cell_type": "code",
   "execution_count": null,
   "id": "792f6d21-7d11-45fe-8b4d-0ea1a5079c25",
   "metadata": {},
   "outputs": [],
   "source": [
    "# there is more information in the pic object\n",
    "print(type(pic))\n",
    "print(pic)"
   ]
  },
  {
   "cell_type": "code",
   "execution_count": null,
   "id": "60d723eb-ad77-466c-9fb1-fa3b7059d0cb",
   "metadata": {},
   "outputs": [],
   "source": [
    "print (pic.created)\n",
    "print()\n",
    "print(pic.data[0].revised_prompt)\n",
    "print()\n",
    "print(pic.data[0].url)"
   ]
  },
  {
   "cell_type": "code",
   "execution_count": null,
   "id": "f23ac1f5-84e8-4b6d-8475-b2f6d860324e",
   "metadata": {},
   "outputs": [],
   "source": [
    "## Generate a picture on demand"
   ]
  },
  {
   "cell_type": "code",
   "execution_count": null,
   "id": "0ecec734-f973-49cd-a084-e44904da766a",
   "metadata": {},
   "outputs": [],
   "source": [
    "p = input('What picture do you want to generate') \n",
    "\n",
    "pic = myclient.images.generate(\n",
    "  model=\"dall-e-3\",\n",
    "  prompt=p,\n",
    "  n=1,\n",
    "  size=\"1024x1024\"\n",
    ")\n",
    "image_url = pic.data[0].url\n",
    "print(image_url)"
   ]
  },
  {
   "cell_type": "code",
   "execution_count": null,
   "id": "5a00f827-66b0-4b46-8843-20c531416e7a",
   "metadata": {},
   "outputs": [],
   "source": []
  },
  {
   "cell_type": "code",
   "execution_count": null,
   "id": "4345c183-05af-498c-8a74-9e12f069cc30",
   "metadata": {},
   "outputs": [],
   "source": [
    "# vision - this will enable chatgpt to tell you about a picture\n",
    "# learn more here: https://platform.openai.com/docs/guides/vision\n",
    "\n",
    "response = myclient.chat.completions.create(\n",
    "  model=\"gpt-4-vision-preview\",\n",
    "  messages=[\n",
    "    {\n",
    "      \"role\": \"user\",\n",
    "      \"content\": [\n",
    "        {\"type\": \"text\", \"text\": \"What’s in this image?\"},\n",
    "        {\n",
    "          \"type\": \"image_url\",\n",
    "          \"image_url\": {\n",
    "            \"url\": \"https://www.singulart.com/blog/wp-content/uploads/2023/10/Famous-Portrait-Paintings-848x530-1.jpg\",\n",
    "          },\n",
    "        },\n",
    "      ],\n",
    "    }\n",
    "  ],\n",
    "  max_tokens=300,\n",
    ")\n",
    "print(response.choices[0].message)\n",
    "\n",
    "# or try \n",
    "# \"url\": \"https://www.singulart.com/blog/wp-content/uploads/2023/10/Famous-Portrait-Paintings-848x530-1.jpg\"\n",
    "# \"url\": \"https://images.hellomagazine.com/horizon/landscape/86955af8d14a-landmarks-worldwide-t.jpg\"\n",
    "# \"url\": \"https://upload.wikimedia.org/wikipedia/commons/thumb/d/dd/Gfp-wisconsin-madison-the-nature-boardwalk.jpg/2560px-Gfp-wisconsin-madison-the-nature-boardwalk.jpg\""
   ]
  },
  {
   "cell_type": "code",
   "execution_count": null,
   "id": "be34e9aa-9a82-4587-9698-01ba4886f92b",
   "metadata": {},
   "outputs": [],
   "source": [
    "# Text to speech\n",
    "# https://platform.openai.com/docs/guides/text-to-speech\n",
    "# this will create the file speech.mp3 from the text below with a voice called alloy\n",
    "\n",
    "from pathlib import Path\n",
    "speech_file_path = \"./speech.mp3\"    # Path(__file__).parent / \"speech.mp3\"\n",
    "response = myclient.audio.speech.create(\n",
    "  model=\"tts-1\",\n",
    "  voice=\"alloy\",\n",
    "  input=\"Today is a wonderful day to build something people love!\"\n",
    ")\n",
    "\n",
    "response.stream_to_file(speech_file_path)\n",
    "\n",
    "# Experiment with different voices (alloy, echo, fable, onyx, nova, and shimmer) \n",
    "# to find one that matches your desired tone and audience. The current voices are optimized for English."
   ]
  },
  {
   "cell_type": "code",
   "execution_count": null,
   "id": "c0c06a4b-329b-4711-9a82-e8fa3d74b9e0",
   "metadata": {},
   "outputs": [],
   "source": [
    "# speech to text\n",
    "# this will take that voice file and turn it back to text\n",
    "\n",
    "#audio_file= open(\"/path/to/file/audio.mp3\", \"rb\")\n",
    "audio_file = open(\"speech.mp3\", \"rb\")\n",
    "transcript = myclient.audio.transcriptions.create(\n",
    "  model=\"whisper-1\", \n",
    "  file=audio_file\n",
    ")\n",
    "print(transcript.text)"
   ]
  },
  {
   "cell_type": "code",
   "execution_count": null,
   "id": "84c0db37-1b03-4bd5-b82e-b1d884bfc7da",
   "metadata": {},
   "outputs": [],
   "source": [
    "# translate language from audio file\n",
    "# this will transale a German audio file to English text\n",
    "\n",
    "audio_file= open(\"german.mp3\", \"rb\")\n",
    "transcript = myclient.audio.translations.create(\n",
    "  model=\"whisper-1\", \n",
    "  file=audio_file\n",
    ")\n",
    "print(transcript.text)"
   ]
  },
  {
   "cell_type": "code",
   "execution_count": null,
   "id": "73c51c0f-8b40-4311-9b32-6e7b512b4c27",
   "metadata": {},
   "outputs": [],
   "source": []
  }
 ],
 "metadata": {
  "kernelspec": {
   "display_name": "Python 3",
   "language": "python",
   "name": "python3"
  },
  "language_info": {
   "codemirror_mode": {
    "name": "ipython",
    "version": 3
   },
   "file_extension": ".py",
   "mimetype": "text/x-python",
   "name": "python",
   "nbconvert_exporter": "python",
   "pygments_lexer": "ipython3",
   "version": "3.8.8"
  }
 },
 "nbformat": 4,
 "nbformat_minor": 5
}
