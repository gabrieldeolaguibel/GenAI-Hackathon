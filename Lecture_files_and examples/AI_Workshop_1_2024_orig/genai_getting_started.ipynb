{
 "cells": [
  {
   "cell_type": "markdown",
   "id": "a30b6137-17ef-4f2d-8858-c49247077fca",
   "metadata": {},
   "source": [
    "## Welcome to this AI Workshop / Bootcamp\n",
    "\n",
    "#### This tutorial is written by Ikhlaq Sidhu\n",
    "#### The learning objective to use be able to use the OpenAI API, and to provide examples that can be used for different types of applications and products and services.\n"
   ]
  },
  {
   "cell_type": "code",
   "execution_count": null,
   "id": "7f7a629d-84f0-49cc-91fa-0d5c8a447f40",
   "metadata": {},
   "outputs": [],
   "source": [
    "# for reference, see https://platform.openai.com/docs/api-reference/introduction\n",
    "\n",
    "# before this code will work, you must do the following at a shell prompt:\n",
    "# pip install openai\n",
    "# from inside the notebook, try the following. \n",
    "#!pip install openai\n",
    "# or\n",
    "#!pip install openai --upgrade --force-reinstall\n",
    "# Note the '!' is a magic command to allow you to do it from the notebook. Don't use it from the shell\n",
    "\n",
    "#if you plan to use nodejs, then this will also be needed:\n",
    "#npm install openai@^4.0.0\n",
    "\n",
    "# this code uses my account for authentication.  If you develop code, \n",
    "# you should sign up for your own account at https://platform.openai.com/\n",
    "# then you can use a credit card and set limits (ie x euro or dollars per month maximum)\n",
    "# when you do this , you will get an api key and an organization key, \n",
    "# The organization key is in the settings menu area. The API key is in the API Keys menu area.\n"
   ]
  },
  {
   "cell_type": "code",
   "execution_count": null,
   "id": "54b65f29-5f3f-481e-bb7c-c8ce874c7e2c",
   "metadata": {},
   "outputs": [],
   "source": [
    "# These keys is needed to \"login\" and \"authenticate\"\n",
    "# Read keys so they are not written in the code\n",
    "filename = 'api_key.txt'\n",
    "with open(filename, 'r') as file: \n",
    "    api_key = file.read().strip() #apikey\n",
    "    \n",
    "filename = 'api_org.txt'\n",
    "with open(filename, 'r') as file:\n",
    "    api_key2 = file.read().strip() #organization"
   ]
  },
  {
   "cell_type": "code",
   "execution_count": null,
   "id": "f172e2af-5102-4fa5-896d-de7f2840d471",
   "metadata": {},
   "outputs": [],
   "source": [
    "# We will create a client object using the OpenAI api to make requests\n",
    "# For this we need to use the keys so that is is authenticated and charges can be made\n",
    "# This is the more recent APY - for 'OpenAI', not 'openai'\n",
    "\n",
    "import os\n",
    "from openai import OpenAI\n",
    "myclient = OpenAI(api_key = api_key, organization=api_key2)"
   ]
  },
  {
   "cell_type": "code",
   "execution_count": null,
   "id": "fc2a181b-6cff-4407-9989-a846bca1d25b",
   "metadata": {},
   "outputs": [],
   "source": [
    "#client = OpenAI()\n",
    "# This is an example of a chat completion\n",
    "# We can use it to answer a question\n",
    "\n",
    "response = myclient.chat.completions.create(\n",
    "  model=\"gpt-3.5-turbo\",\n",
    "  messages=[\n",
    "    {\"role\": \"system\", \"content\": \"You are a helpful assistant.\"},\n",
    "    {\"role\": \"user\", \"content\": \"Who won the last world cup in soccer?\"},\n",
    "    #{\"role\": \"user\", \"content\": \"What are the top 10 most well known sub atomic particles.  Make a list and provide a one senence descriptino of each \"}\n",
    "  ]\n",
    ")\n",
    "print(response.choices[0].message.content)\n",
    "\n",
    "# models: \n",
    "#\"gpt-3.5-turbo\"\n",
    "#\"gpt4\""
   ]
  },
  {
   "cell_type": "code",
   "execution_count": null,
   "id": "73c51c0f-8b40-4311-9b32-6e7b512b4c27",
   "metadata": {},
   "outputs": [],
   "source": []
  }
 ],
 "metadata": {
  "kernelspec": {
   "display_name": "Python 3",
   "language": "python",
   "name": "python3"
  },
  "language_info": {
   "codemirror_mode": {
    "name": "ipython",
    "version": 3
   },
   "file_extension": ".py",
   "mimetype": "text/x-python",
   "name": "python",
   "nbconvert_exporter": "python",
   "pygments_lexer": "ipython3",
   "version": "3.8.8"
  }
 },
 "nbformat": 4,
 "nbformat_minor": 5
}
